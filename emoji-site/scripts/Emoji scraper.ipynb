{
 "cells": [
  {
   "cell_type": "code",
   "execution_count": 1,
   "metadata": {
    "collapsed": false
   },
   "outputs": [],
   "source": [
    "from requests import get\n",
    "import simplejson as json\n",
    "from bs4 import BeautifulSoup\n",
    "from collections import defaultdict\n",
    "import pandas as pd"
   ]
  },
  {
   "cell_type": "code",
   "execution_count": 2,
   "metadata": {
    "collapsed": true
   },
   "outputs": [],
   "source": [
    "url = 'http://emojipedia.org'"
   ]
  },
  {
   "cell_type": "code",
   "execution_count": 3,
   "metadata": {
    "collapsed": true
   },
   "outputs": [],
   "source": [
    "def get_soup(url):\n",
    "    r = get(url)\n",
    "    return BeautifulSoup(r.text, 'html.parser')"
   ]
  },
  {
   "cell_type": "code",
   "execution_count": 4,
   "metadata": {
    "collapsed": false
   },
   "outputs": [],
   "source": [
    "def get_main_categories():\n",
    "    soup = get_soup(url)\n",
    "    catgeories_with_ref = defaultdict(str)\n",
    "    for div in soup.findAll('div'):\n",
    "        if 'block' in div.attrs.get('class', []) and div.h2 and div.h2.text == 'Categories':\n",
    "            for page in div.findAll('li'):\n",
    "                category_url_ref = page.find('a').get('href')\n",
    "                category = page.find('a').text\n",
    "                if not 'http://' in category_url_ref:\n",
    "                    catgeories_with_ref[category_url_ref] = category\n",
    "    return catgeories_with_ref"
   ]
  },
  {
   "cell_type": "code",
   "execution_count": 5,
   "metadata": {
    "collapsed": false
   },
   "outputs": [],
   "source": [
    "def get_category_with_urls(categories_with_ref):\n",
    "    cat_with_urls = defaultdict(list)\n",
    "    for url_ext, cat in list(categories_with_ref.items()):\n",
    "        mini_soup = get_soup(url + url_ext)\n",
    "        divs = mini_soup.findAll('div')\n",
    "        clean_cat = ' '.join(cat.split()[1:])\n",
    "        for div in divs:\n",
    "            if div.h1:\n",
    "                name = ' '.join(div.h1.text.strip().split()[1:])\n",
    "                if name in clean_cat:\n",
    "                    for l in div.findAll('li'):\n",
    "                        if not 'http://' in l.find('a').get('href'):\n",
    "                            cat_with_urls[cat] += [l.find('a').get('href')]\n",
    "    return cat_with_urls"
   ]
  },
  {
   "cell_type": "code",
   "execution_count": 6,
   "metadata": {
    "collapsed": false
   },
   "outputs": [],
   "source": [
    "def extract_emoji_info(url):\n",
    "    soup = get_soup(url)\n",
    "    # TITLE\n",
    "    title = soup.h1.text\n",
    "    # DESCRIPTION\n",
    "    sections = soup.findAll('section')\n",
    "    aliases = []\n",
    "    description = ''\n",
    "    for section in sections:\n",
    "        name = section.get('class')[0]\n",
    "        if name == 'description':\n",
    "            description = section.p.text\n",
    "        if name == 'aliases':\n",
    "            \n",
    "            for alias_item in sections[1].findAll('li'):\n",
    "                aliases.append(' '.join(alias_item.text.split()[1:]))\n",
    "\n",
    "    section = soup.find(\"section\",{\"class\" : \"vendor-list\"})\n",
    "    \n",
    "    for vendor in section.findAll('li'):\n",
    "        \n",
    "        \n",
    "\n",
    "    \n",
    "                \n",
    "    shortcodes = []\n",
    "    related = []\n",
    "    for l in soup.findAll('ul'):\n",
    "        # ShortCodes\n",
    "        cl = l.get('class', [''])[0]\n",
    "        if cl == 'shortcodes':\n",
    "            shortcodes = [shortcode_nest.text for shortcode_nest in l.findAll('li')]\n",
    "        # RELATED\n",
    "        if cl == 'emoji-list':\n",
    "            related = [related_nest.get('href') for related_nest in l.findAll('li')]\n",
    "        # CODE POINTS\n",
    "            \n",
    "    return {'name': title if title else ' '.join(title.split()[1:]),\n",
    "            'clean_name': ' '.join(title.split()[1:]),\n",
    "            'description': description,\n",
    "            'alternate_names': aliases,\n",
    "            'shortcodes': shortcodes,\n",
    "            'url': url\n",
    "            }"
   ]
  },
  {
   "cell_type": "code",
   "execution_count": 7,
   "metadata": {
    "collapsed": false
   },
   "outputs": [],
   "source": [
    "def extract_all_page_info(cat_with_urls):\n",
    "    data = []\n",
    "    for cat, urls in list(cat_with_urls.items()):\n",
    "        for url_ext in list(set(urls)):\n",
    "            extracted = extract_emoji_info(url + url_ext)\n",
    "            if extracted.get('name') != '':\n",
    "                data.append(extracted)\n",
    "    data = pd.DataFrame(data)\n",
    "    data.to_csv('data/emoji_lookup.csv')\n",
    "    return data"
   ]
  },
  {
   "cell_type": "code",
   "execution_count": 8,
   "metadata": {
    "collapsed": true
   },
   "outputs": [],
   "source": [
    "def main():\n",
    "    categories_with_ref = get_main_categories()\n",
    "    cat_with_urls = get_category_with_urls(categories_with_ref)\n",
    "    data = extract_all_page_info(cat_with_urls)"
   ]
  },
  {
   "cell_type": "code",
   "execution_count": 9,
   "metadata": {
    "collapsed": false,
    "scrolled": true
   },
   "outputs": [],
   "source": [
    "main()"
   ]
  },
  {
   "cell_type": "code",
   "execution_count": 39,
   "metadata": {
    "collapsed": true
   },
   "outputs": [],
   "source": [
    "url = 'http://emojipedia.org/roller-coaster/'\n",
    "soup = get_soup(url)\n",
    "section = soup.find(\"section\",{\"class\" : \"vendor-list\"})"
   ]
  },
  {
   "cell_type": "code",
   "execution_count": 22,
   "metadata": {
    "collapsed": false
   },
   "outputs": [],
   "source": [
    "list_ = section.findAll('li')"
   ]
  },
  {
   "cell_type": "code",
   "execution_count": 33,
   "metadata": {
    "collapsed": false
   },
   "outputs": [
    {
     "name": "stdout",
     "output_type": "stream",
     "text": [
      "\n",
      "Apple\n",
      "\n",
      "http://emojipedia-us.s3.amazonaws.com/cache/2c/2e/2c2e95b48ff1c164273b1815a3c6d6c1.png\n"
     ]
    }
   ],
   "source": [
    "print(list_[0].find(\"div\", {\"class\" : \"vendor-info\"}, \"href\").text)\n",
    "print(list_[0].find(\"img\")[\"src\"])"
   ]
  },
  {
   "cell_type": "code",
   "execution_count": 36,
   "metadata": {
    "collapsed": false
   },
   "outputs": [
    {
     "data": {
      "text/plain": [
       "<li>\n",
       "<div class=\"vendor-container\">\n",
       "<div class=\"vendor-info\">\n",
       "<p class=\"version-name\"><a href=\"/apple/ios-9.1/\">iOS 9.1</a></p>\n",
       "</div>\n",
       "<div class=\"vendor-image\">\n",
       "<a href=\"/apple/ios-9.1/roller-coaster/\">\n",
       "<img alt=\"Roller Coaster on Apple \" src=\"http://emojipedia-us.s3.amazonaws.com/cache/70/f4/70f4ccd4ce9f07e50c9bc9380489c848.png\">\n",
       "</img></a>\n",
       "</div>\n",
       "</div>\n",
       "</li>"
      ]
     },
     "execution_count": 36,
     "metadata": {},
     "output_type": "execute_result"
    }
   ],
   "source": [
    "list_[2]"
   ]
  },
  {
   "cell_type": "code",
   "execution_count": 18,
   "metadata": {
    "collapsed": false
   },
   "outputs": [
    {
     "data": {
      "text/plain": [
       "<li>\n",
       "<div class=\"vendor-container vendor-rollout-target\">\n",
       "<div class=\"vendor-info\">\n",
       "<h2><a href=\"/apple/\">Apple</a></h2>\n",
       "</div>\n",
       "<div class=\"vendor-image\">\n",
       "<img alt=\"Roller Coaster on Apple iOS 9.3\" src=\"http://emojipedia-us.s3.amazonaws.com/cache/2c/2e/2c2e95b48ff1c164273b1815a3c6d6c1.png\">\n",
       "</img></div>\n",
       "</div>\n",
       "<div class=\"vendor-rollout-container\">\n",
       "<ul class=\"vendor-rollout\">\n",
       "<li>\n",
       "<div class=\"vendor-container\">\n",
       "<div class=\"vendor-info\">\n",
       "<p class=\"version-name\"><a href=\"/apple/ios-9.3/\">iOS 9.3</a></p>\n",
       "</div>\n",
       "<div class=\"vendor-image\">\n",
       "<a href=\"/apple/ios-9.3/roller-coaster/\">\n",
       "<img alt=\"Roller Coaster on Apple \" src=\"http://emojipedia-us.s3.amazonaws.com/cache/32/4a/324a614f4fd5e0659fb64642b685d495.png\">\n",
       "</img></a>\n",
       "</div>\n",
       "</div>\n",
       "</li>\n",
       "<li>\n",
       "<div class=\"vendor-container\">\n",
       "<div class=\"vendor-info\">\n",
       "<p class=\"version-name\"><a href=\"/apple/ios-9.1/\">iOS 9.1</a></p>\n",
       "</div>\n",
       "<div class=\"vendor-image\">\n",
       "<a href=\"/apple/ios-9.1/roller-coaster/\">\n",
       "<img alt=\"Roller Coaster on Apple \" src=\"http://emojipedia-us.s3.amazonaws.com/cache/70/f4/70f4ccd4ce9f07e50c9bc9380489c848.png\">\n",
       "</img></a>\n",
       "</div>\n",
       "</div>\n",
       "</li>\n",
       "<li>\n",
       "<div class=\"vendor-container\">\n",
       "<div class=\"vendor-info\">\n",
       "<p class=\"version-name\"><a href=\"/apple/ios-6.0/\">iOS 6.0</a></p>\n",
       "</div>\n",
       "<div class=\"vendor-image\">\n",
       "<a href=\"/apple/ios-6.0/roller-coaster/\">\n",
       "<img alt=\"Roller Coaster on Apple \" src=\"http://emojipedia-us.s3.amazonaws.com/cache/6e/3a/6e3a326935faa9388a594dfc9cb572cc.png\">\n",
       "</img></a>\n",
       "</div>\n",
       "</div>\n",
       "</li>\n",
       "<li>\n",
       "<div class=\"vendor-container\">\n",
       "<div class=\"vendor-info\">\n",
       "<p class=\"version-name\"><a href=\"/apple/ios-5.0/\">iOS 5.0</a></p>\n",
       "</div>\n",
       "<div class=\"vendor-image\">\n",
       "<a href=\"/apple/ios-5.0/roller-coaster/\">\n",
       "<img alt=\"Roller Coaster on Apple \" src=\"http://emojipedia-us.s3.amazonaws.com/cache/06/f2/06f248d2ad425b15a3a64246c1259cc5.png\">\n",
       "</img></a>\n",
       "</div>\n",
       "</div>\n",
       "</li>\n",
       "</ul>\n",
       "</div>\n",
       "</li>"
      ]
     },
     "execution_count": 18,
     "metadata": {},
     "output_type": "execute_result"
    }
   ],
   "source": [
    "list_[0]"
   ]
  }
 ],
 "metadata": {
  "kernelspec": {
   "display_name": "Python 3",
   "language": "python",
   "name": "python3"
  },
  "language_info": {
   "codemirror_mode": {
    "name": "ipython",
    "version": 3
   },
   "file_extension": ".py",
   "mimetype": "text/x-python",
   "name": "python",
   "nbconvert_exporter": "python",
   "pygments_lexer": "ipython3",
   "version": "3.5.1"
  }
 },
 "nbformat": 4,
 "nbformat_minor": 0
}
